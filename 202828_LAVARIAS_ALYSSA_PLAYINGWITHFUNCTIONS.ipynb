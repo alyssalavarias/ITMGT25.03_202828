{
 "cells": [
  {
   "cell_type": "markdown",
   "id": "b311cd50-76d0-4eff-aacf-c954d7783de3",
   "metadata": {},
   "source": [
    "# Assignment: Playing with Functions\n",
    "\n",
    "This problem set aims to serve as a stepping stone from basic Python to intermediate Python.  "
   ]
  },
  {
   "cell_type": "markdown",
   "id": "7843e78a-c77f-4662-900c-714330ada001",
   "metadata": {},
   "source": [
    "## Problem 1\n",
    "## Factorial (1 point)\n",
    "\n",
    "The **factorial** of a number is the product of that number and all the numbers below it. For example, 5 factorial (denoted 5! in math) is 5 * 4 * 3 * 2 * 1, which is 120.  \n",
    "\n",
    "**Write a function called `problem_1` that takes one positional argument `number`. The function should return  the factorial of `number` as an integer.**\n",
    "\n",
    "Example input/output:  \n",
    "`problem_1(5)` => `120`  \n",
    "`problem_1(10)` => `3628800`  "
   ]
  },
  {
   "cell_type": "code",
   "execution_count": 87,
   "id": "1a62b7a0-5d38-42dd-8cb8-ced94be5455d",
   "metadata": {},
   "outputs": [],
   "source": [
    "def problem_1(number):\n",
    "    factorial = 1\n",
    "    while (number > 1):\n",
    "        factorial = factorial * number\n",
    "        number -= 1\n",
    "    return factorial"
   ]
  },
  {
   "cell_type": "code",
   "execution_count": 88,
   "id": "1ee0015f-35fb-48b1-9040-6eae8af05cfe",
   "metadata": {},
   "outputs": [
    {
     "data": {
      "text/plain": [
       "120"
      ]
     },
     "execution_count": 88,
     "metadata": {},
     "output_type": "execute_result"
    }
   ],
   "source": [
    "problem_1(5)"
   ]
  },
  {
   "cell_type": "code",
   "execution_count": 89,
   "id": "e0129418-cba2-4cd9-8500-b25dce05b724",
   "metadata": {},
   "outputs": [
    {
     "data": {
      "text/plain": [
       "3628800"
      ]
     },
     "execution_count": 89,
     "metadata": {},
     "output_type": "execute_result"
    }
   ],
   "source": [
    "problem_1(10)"
   ]
  },
  {
   "cell_type": "markdown",
   "id": "b95d08a5-e4f9-4bb4-8e18-e09e629df96b",
   "metadata": {},
   "source": [
    "## Problem 2\n",
    "## Guessing Game (2 points) \n",
    "\n",
    "Recall that we use `input()` to ask for user input.  \n",
    "\n",
    "**Write a function called `problem_2` that takes one positional argument `passphrase`. The function should ask the user to enter the passphrase with `input()`. If the user enters the correct passphrase, the function should return the integer `1`. If the user enters the wrong passphrase, the function should keep asking them for the passphrase. If the user gets the passphrase wrong 3 times, the function should return the integer `0`.**  \n",
    "\n",
    "Example input/output:  \n",
    "\n",
    "Function input:  \n",
    "`problem_2(\"chums\")`  \n",
    "Simulated user input:  \n",
    "`joben`  \n",
    "`chums`  \n",
    "Output:  \n",
    "`1`  \n",
    "\n",
    "Function input:  \n",
    "`problem_2(\"annika\")`  \n",
    "Simulated user input:  \n",
    "`joe`  \n",
    "`earl`  \n",
    "`niks`  \n",
    "Output:  \n",
    "`0`"
   ]
  },
  {
   "cell_type": "code",
   "execution_count": 1,
   "id": "948e9ab7-85e3-417e-914d-c1c27bdbfcdb",
   "metadata": {},
   "outputs": [],
   "source": [
    "def problem_2(passphrase):\n",
    "    for i in range (1,4):\n",
    "        user_input = input()\n",
    "        if user_input == passphrase:\n",
    "            return 1\n",
    "    return 0"
   ]
  },
  {
   "cell_type": "code",
   "execution_count": 2,
   "id": "02f2762d-f5ae-4d8c-84e7-e6473d8991d3",
   "metadata": {},
   "outputs": [
    {
     "name": "stdin",
     "output_type": "stream",
     "text": [
      " joben\n",
      " chums\n"
     ]
    },
    {
     "data": {
      "text/plain": [
       "1"
      ]
     },
     "execution_count": 2,
     "metadata": {},
     "output_type": "execute_result"
    }
   ],
   "source": [
    "problem_2(\"chums\")"
   ]
  },
  {
   "cell_type": "code",
   "execution_count": 3,
   "id": "c57a2066-03ee-46f8-86e7-29825cdc2303",
   "metadata": {},
   "outputs": [
    {
     "name": "stdin",
     "output_type": "stream",
     "text": [
      " joe\n",
      " earl\n",
      " niks\n"
     ]
    },
    {
     "data": {
      "text/plain": [
       "0"
      ]
     },
     "execution_count": 3,
     "metadata": {},
     "output_type": "execute_result"
    }
   ],
   "source": [
    "problem_2(\"annika\")"
   ]
  },
  {
   "cell_type": "markdown",
   "id": "1b434f41-8e16-4a4d-a8d0-96be3ed2a309",
   "metadata": {},
   "source": [
    "## Problem 3\n",
    "## Temperature Converter (3 points)\n",
    "\n",
    "A common beginner's exercise is to write a function that can convert a temperature value from one format, such as Fahrenheit, to another, such as Celsius.  \n",
    "\n",
    "In this problem, extend this idea to convert temperatures freely to and from any of the following formats: Celsius, Fahrenheit, and Kelvin.  \n",
    "\n",
    "**Write a function called `problem_3` that takes three positional arguments: (float) `temp`, (string) `original_format`, (string) `new_format`. The function should convert `temp`, which is represented in `original_format`, to its equivalent value in the `new_format.`**  \n",
    "\n",
    "Example input/output:  \n",
    "`problem_3(0.0, \"Celsius\", \"Fahrenheit\")` => `32.0`  \n",
    "`problem_3(500.0, \"Kelvin\", \"Fahrenheit\")` => `440.33`  \n",
    "`problem_3(273.0, \"Kelvin\", \"Celsius\")` => `0.0`  \n",
    "\n",
    "For your convenience:  \n",
    "1. The accuracy of your float outputs will only be evaluated to within 2 decimal places. (In other words: don't worry too much about getting the calculation *exactly* right.)"
   ]
  },
  {
   "cell_type": "code",
   "execution_count": 37,
   "id": "652183db-4f42-40cf-b8cf-f0120914b86b",
   "metadata": {},
   "outputs": [],
   "source": [
    "def problem_3(temp, original_format, new_format):\n",
    "    \n",
    "    if original_format == \"Celsius\" and new_format == \"Fahrenheit\":\n",
    "        new_temp = (9 * temp)/5 + 32\n",
    "        return new_temp\n",
    "    \n",
    "    elif original_format == \"Celsius\" and new_format == \"Kelvin\":\n",
    "        new_temp = temp + 273.15\n",
    "        return new_temp\n",
    "    \n",
    "    elif original_format == \"Fahrenheit\" and new_format == \"Celsius\":\n",
    "        new_temp = (5/9) * (temp - 32)\n",
    "        return new_temp\n",
    "    \n",
    "    elif original_format == \"Fahrenheit\" and new_format == \"Kelvin\":\n",
    "        new_temp = ((5/9) * (temp - 32)) + 273.15\n",
    "        return new_temp\n",
    "    \n",
    "    elif original_format == \"Kelvin\" and new_format == \"Celsius\":\n",
    "        new_temp = temp - 273.15\n",
    "        return new_temp\n",
    "    \n",
    "    elif original_format == \"Kelvin\" and new_format == \"Fahrenheit\":\n",
    "        new_temp = ((9/5) * (temp - 273.15)) + 32\n",
    "        return new_temp"
   ]
  },
  {
   "cell_type": "code",
   "execution_count": 7,
   "id": "be6f72ca-8921-4b84-a929-73b5599c3b10",
   "metadata": {},
   "outputs": [
    {
     "data": {
      "text/plain": [
       "32.0"
      ]
     },
     "execution_count": 7,
     "metadata": {},
     "output_type": "execute_result"
    }
   ],
   "source": [
    "problem_3(0.0, \"Celsius\", \"Fahrenheit\")"
   ]
  },
  {
   "cell_type": "code",
   "execution_count": 8,
   "id": "64c4a6be-a487-4118-8755-c90d0699010c",
   "metadata": {},
   "outputs": [
    {
     "data": {
      "text/plain": [
       "440.33000000000004"
      ]
     },
     "execution_count": 8,
     "metadata": {},
     "output_type": "execute_result"
    }
   ],
   "source": [
    "problem_3(500.0, \"Kelvin\", \"Fahrenheit\")"
   ]
  },
  {
   "cell_type": "code",
   "execution_count": 40,
   "id": "85ceed2b-c925-4c5f-a7a6-175513be8958",
   "metadata": {},
   "outputs": [
    {
     "data": {
      "text/plain": [
       "-0.14999999999997726"
      ]
     },
     "execution_count": 40,
     "metadata": {},
     "output_type": "execute_result"
    }
   ],
   "source": [
    "problem_3(273.0, \"Kelvin\", \"Celsius\")"
   ]
  },
  {
   "cell_type": "markdown",
   "id": "f12ed1ad-7738-4f4a-aa35-8f7ee87ea395",
   "metadata": {},
   "source": [
    "## Problem 4\n",
    "## Exact Change (4 points)\n",
    "\n",
    "Part of a cashier's job is to give exact change to customers. It can be difficult to mentally tally how many coins of each type (i.e., 1 peso, 25 centavos, 10 centavos, etc.) to give to a customer.  \n",
    "\n",
    "**Write a function called `problem_4` that takes 1 positional argument `amount` in centavos. The function should return a string that describes the appropriate amounts of each type of coin to give to the customer. The string should be formatted as follows:**  \n",
    "\n",
    "`\"1P:{num}/25C:{num}/10C:{num}/5C:{num}/1C:{num}\"`  \n",
    "\n",
    "**Use the fewest number of total coins possible.**  \n",
    "\n",
    "Example input/output:  \n",
    "`problem_4(105)` => `\"1P:1/25C:0/10C:0/5C:1/1C:0\"`  \n",
    "`problem_4(69)` => `\"1P:0/25C:2/10C:1/5C:1/1C:4\"`  "
   ]
  },
  {
   "cell_type": "code",
   "execution_count": 27,
   "id": "3899279e-d77b-49f6-a7ed-da43c631fff4",
   "metadata": {},
   "outputs": [],
   "source": [
    "def problem_4(amount):\n",
    "\n",
    "    pesos_one = int(amount/100)\n",
    "    centavos_25 = int((amount%100)/25)\n",
    "    centavos_10 = int((amount-(pesos_one*100)-(centavos_25*25))/10)\n",
    "    centavos_5 = int((amount-(pesos_one*100)-(centavos_25*25)-(centavos_10*10))/5)\n",
    "    centavos_1 = amount-(pesos_one*100)-(centavos_25*25)-(centavos_10*10)-(centavos_5*5)\n",
    "    return(f\"1P:{pesos_one}/25C:{centavos_25}/10C:{centavos_10}/5C:{centavos_5}/1C:{centavos_1}\")"
   ]
  },
  {
   "cell_type": "code",
   "execution_count": 28,
   "id": "d31ca958-6e34-4334-9607-90c59ec081ae",
   "metadata": {},
   "outputs": [
    {
     "data": {
      "text/plain": [
       "'1P:1/25C:0/10C:0/5C:1/1C:0'"
      ]
     },
     "execution_count": 28,
     "metadata": {},
     "output_type": "execute_result"
    }
   ],
   "source": [
    "problem_4(105)"
   ]
  },
  {
   "cell_type": "code",
   "execution_count": 29,
   "id": "c80eaed9-c823-409c-9e77-e6270a8a9e28",
   "metadata": {},
   "outputs": [
    {
     "data": {
      "text/plain": [
       "'1P:0/25C:2/10C:2/5C:0/1C:1'"
      ]
     },
     "execution_count": 29,
     "metadata": {},
     "output_type": "execute_result"
    }
   ],
   "source": [
    "problem_4(71)"
   ]
  },
  {
   "cell_type": "markdown",
   "id": "a45e4549-fb1a-4a4e-aceb-1eb46ceaa2c2",
   "metadata": {},
   "source": [
    "## Invert Capitalization (3 points)  \n",
    "\n",
    "**Write a function called `problem_5` that takes 1 positional argument (string) `message`. The function should return a string whose uppercase letters are now lowercase and whose lowercase letters are now uppercase. Spaces should be left alone.**  \n",
    "\n",
    "Example input/output:  \n",
    "`problem_5(\"Test Me\")` => `\"tEST mE\"`  \n",
    "`problem_5(\"asSiGnmENt\")` => `\"ASsIgNMenT\"`  \n",
    "\n",
    "For your convenience:  \n",
    "1. The message will only ever consist of spaces, lowercase letters, and uppercase letters.  \n",
    "\n",
    "Hint: Research on `ord()` and `chr()`.  "
   ]
  },
  {
   "cell_type": "code",
   "execution_count": 174,
   "id": "df8d9597-cca1-44ef-b1c8-a0050d512d45",
   "metadata": {},
   "outputs": [],
   "source": [
    "def problem_5(message):\n",
    "    new_message = \"\"\n",
    "    \n",
    "    for i in message:\n",
    "\n",
    "        if 65 <= ord(i) <= 90:\n",
    "            new_char = chr(ord(i)+32)\n",
    "            new_message = new_message + new_char\n",
    "\n",
    "        elif 97 <= ord(i) <= 122:\n",
    "            new_char = chr(ord(i)-32)\n",
    "            new_message = new_message + new_char\n",
    "            \n",
    "        else:\n",
    "            new_char = i\n",
    "            new_message = new_message + new_char\n",
    "    \n",
    "    return new_message"
   ]
  },
  {
   "cell_type": "code",
   "execution_count": 175,
   "id": "4c9ba1d1-603c-46c8-a610-1d1da1d955da",
   "metadata": {},
   "outputs": [
    {
     "data": {
      "text/plain": [
       "'tEST mE'"
      ]
     },
     "execution_count": 175,
     "metadata": {},
     "output_type": "execute_result"
    }
   ],
   "source": [
    "problem_5(\"Test Me\")"
   ]
  },
  {
   "cell_type": "code",
   "execution_count": 176,
   "id": "aa106d3c-3f44-4f2e-9362-f1b2dd34f482",
   "metadata": {},
   "outputs": [
    {
     "data": {
      "text/plain": [
       "'ASsIgNMenT'"
      ]
     },
     "execution_count": 176,
     "metadata": {},
     "output_type": "execute_result"
    }
   ],
   "source": [
    "problem_5(\"asSiGnmENt\")"
   ]
  }
 ],
 "metadata": {
  "kernelspec": {
   "display_name": "Python 3",
   "language": "python",
   "name": "python3"
  },
  "language_info": {
   "codemirror_mode": {
    "name": "ipython",
    "version": 3
   },
   "file_extension": ".py",
   "mimetype": "text/x-python",
   "name": "python",
   "nbconvert_exporter": "python",
   "pygments_lexer": "ipython3",
   "version": "3.8.8"
  }
 },
 "nbformat": 4,
 "nbformat_minor": 5
}
