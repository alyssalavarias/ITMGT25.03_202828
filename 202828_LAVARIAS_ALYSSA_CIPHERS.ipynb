{
 "cells": [
  {
   "cell_type": "markdown",
   "id": "56312606-8a8a-4880-b1b2-963a5a6543b1",
   "metadata": {},
   "source": [
    "# Assignment: Ancient Ciphers\n",
    "\n",
    "This problem set aims to synthesize Modules 2 and 3. This means that you should be able to solve these problems using only variables, functions, conditionals, loops, and string methods. To the advanced learners out there, that means that you should not use lists, dictionaries, and libraries to solve these problems.  \n",
    "\n",
    "To be frank, with only up to loops, it is not easy to make meaningful programs. This is about the best we can do for the moment, but we promise that Python will become far more useful and fun after the departmental test."
   ]
  },
  {
   "cell_type": "markdown",
   "id": "b25562bf-ed13-4e52-b003-fdbf20389d78",
   "metadata": {
    "tags": []
   },
   "source": [
    "## Problem 1\n",
    "## Caesar Cipher (6 points)\n",
    "\n",
    "A _cipher_ is a way of disguising a message by encoding it.  \n",
    "\n",
    "One of the simplest ciphers is a \"shift cipher\" known as the _Caesar cipher_. The way it works is very simple.  \n",
    "\n",
    "1. Start with a message, such as \"ATTACK AT DAWN\".\n",
    "2. Choose a number, such as 3.\n",
    "3. _Shift_ all letters in the message to the right by the chosen number. In this case, shifting all letters in \"ATTACK AT DAWN\" by 3 results in the message \"DWWDFN DW GDZQ\".\n",
    "\n",
    "**Write a function called `problem_1` that takes two positional arguments `message` and `shift`. It should apply the Caesar cipher to a message and _return_ the result.**  \n",
    "\n",
    "Example input/output:  \n",
    "`problem_1(\"ATTACK AT DAWN\", 3)` => `\"DWWDFN DW GDZQ\"`  \n",
    "`problem_1(\"MEAMORE\", 42)` => `\"CUQCEHU\"`\n",
    "\n",
    "For full credit:\n",
    "\n",
    "1. The function must ignore spaces.\n",
    "2. The function must be able to \"wrap around\" if it reaches the end of the alphabet. (e.g., shifting Z by 1 should result in A, shifting Z by 2 should result in B, etc.)\n",
    "\n",
    "For your convenience:\n",
    "1. Assume that all letters will be uppercase.\n",
    "2. Be aware of the `chr()` function. `chr()` takes an Unicode code number and returns the character associated with that number (e.g., chr(65) => \"A\").\n",
    "3. Be aware of the `ord()` function. `ord()` takes a Unicode character and returns the Unicode code associated with that character (e.g., ord(\"A\") => 65).\n",
    "4. Be aware that the Unicode codes of the uppercase English alphabet are Unicode codes 65 to 90, where 65 = A, 66 = B, ..., 90 = Z.\n",
    "5. The shift will always be a positive integer."
   ]
  },
  {
   "cell_type": "code",
   "execution_count": 144,
   "id": "cdbdc78f-ab04-4eca-84a1-c9f44547f740",
   "metadata": {},
   "outputs": [],
   "source": [
    "def problem_1(message, shift):\n",
    "    new_message = \"\"\n",
    "    new_shift = shift\n",
    "    \n",
    "    for i in message: \n",
    "        \n",
    "        if 65 <= ord(i) + shift <= 90:\n",
    "            new_char = chr(ord(i) + shift)\n",
    "            new_message = new_message + new_char\n",
    "            \n",
    "        elif ord(i) + shift > 90:\n",
    "            while ord(i) + new_shift > 90:\n",
    "                new_shift -= 26\n",
    "            \n",
    "            while ord(i) + new_shift < 65:\n",
    "                new_shift += 26\n",
    "\n",
    "            new_char = chr(ord(i) + new_shift)\n",
    "            new_message = new_message + new_char \n",
    "\n",
    "        else:\n",
    "            new_char = i\n",
    "            new_message = new_message + new_char\n",
    "            \n",
    "    return new_message"
   ]
  },
  {
   "cell_type": "code",
   "execution_count": 145,
   "id": "37a4140b-907d-4ca3-87ad-2019adbe15dd",
   "metadata": {},
   "outputs": [
    {
     "data": {
      "text/plain": [
       "'DWWDFN DW GDZQ'"
      ]
     },
     "execution_count": 145,
     "metadata": {},
     "output_type": "execute_result"
    }
   ],
   "source": [
    "problem_1(\"ATTACK AT DAWN\", 3)\n",
    "# \"DWWDFN DW GDZQ\""
   ]
  },
  {
   "cell_type": "code",
   "execution_count": 146,
   "id": "1d1923b3-20f5-43e2-b6a2-baeb746e5f60",
   "metadata": {},
   "outputs": [
    {
     "data": {
      "text/plain": [
       "'CUQCEHU'"
      ]
     },
     "execution_count": 146,
     "metadata": {},
     "output_type": "execute_result"
    }
   ],
   "source": [
    "problem_1(\"MEAMORE\", 42)\n",
    "#\"CUQCEHU\""
   ]
  },
  {
   "cell_type": "markdown",
   "id": "74b974e9-1602-414f-98f0-2f30b0a29265",
   "metadata": {},
   "source": [
    "## Scytale Cipher (8 points)\n",
    "\n",
    "Another ancient cipher (of questionable effectiveness) is the scytale-based cipher. A _scytale_ is a cylinder around which you can wrap a long strip of parchment that contained a string of apparent gibberish. The parchment, when read using the scytale, would reveal a message due to every nth letter now appearing next to each other, revealing a proper message.  \n",
    "\n",
    "Sources:  \n",
    "1. https://en.wikipedia.org/wiki/Scytale\n",
    "\n",
    "Here is the algorithm you can use to implement a scytale-style cipher:\n",
    "\n",
    "__Encoding__\n",
    "1. Take a message to be encoded and a \"shift\" number. For this example, we will use \"INFORMATION_AGE\" as the message and 3 as the shift.\n",
    "2. Check if the length of the message is a multiple of the shift. If it is not, add additional underscores to the end of the message until it is. In this example, \"INFORMATION_AGE\" is already a multiple of 3, so we will leave it alone.\n",
    "3. This is the tricky part. Construct the encoded message. For each index `i` in the encoded message, use the character at the index `(i // shift) + (len(message) // shift) * (i % shift)` of the raw message. If this number doesn't make sense, you can play around with the cipher at https://dencode.com/en/cipher/scytale to try to understand it.\n",
    "4. Return the encoded message. In this case, the output should be \"IMNNA_FTAOIGROE\".\n",
    "\n",
    "Example input/output:  \n",
    "`problem_2(\"INFORMATION_AGE\", 3)` => `\"IMNNA_FTAOIGROE\"`  \n",
    "`problem_2(\"INFORMATION_AGE\", 4)` => `\"IRIANMOGFANEOT__\"`  \n",
    "`problem_2(\"ALGORITHMS_ARE_IMPORTANT\", 8)` => `\"AOTSRIOALRH_EMRNGIMA_PTT\"`  \n",
    "\n",
    "__Write a function called `problem_2` that takes two positional arguments `message` and `shift`. It should apply this scytale-style cipher to a message and return the encoded message.__  \n",
    "\n",
    "For your convenience:  \n",
    "1. A message will only ever contain capital letters and underscores. (Underscores will be used to represent spaces.)  \n",
    "2. The shift will always be a positive integer, and it will never exceed the length of the message."
   ]
  },
  {
   "cell_type": "code",
   "execution_count": 140,
   "id": "25c47741-f8ab-4d88-acd3-870ce10356a1",
   "metadata": {},
   "outputs": [],
   "source": [
    "def problem_2(message, shift):\n",
    "    new_message = \"\"\n",
    "    \n",
    "    if len(message) % shift != 0:\n",
    "        while len(message) % shift != 0:\n",
    "            message += \"_\"\n",
    "                \n",
    "    for i, char in enumerate(message):\n",
    "        new_char = message[(i // shift) + (len(message) // shift) * (i % shift)]\n",
    "        new_message = new_message + new_char\n",
    "    \n",
    "    return new_message   "
   ]
  },
  {
   "cell_type": "code",
   "execution_count": 141,
   "id": "1b1022c7-caa6-46b3-ba2c-f54a430ba76f",
   "metadata": {},
   "outputs": [
    {
     "data": {
      "text/plain": [
       "'IMNNA_FTAOIGROE'"
      ]
     },
     "execution_count": 141,
     "metadata": {},
     "output_type": "execute_result"
    }
   ],
   "source": [
    "problem_2(\"INFORMATION_AGE\", 3) \n",
    "#\"IMNNA_FTAOIGROE\""
   ]
  },
  {
   "cell_type": "code",
   "execution_count": 142,
   "id": "44ddaa36-d436-454b-82e5-8120488f1d0b",
   "metadata": {},
   "outputs": [
    {
     "data": {
      "text/plain": [
       "'IRIANMOGFANEOT__'"
      ]
     },
     "execution_count": 142,
     "metadata": {},
     "output_type": "execute_result"
    }
   ],
   "source": [
    "problem_2(\"INFORMATION_AGE\", 4) \n",
    "#\"IRIANMOGFANEOT__\""
   ]
  },
  {
   "cell_type": "code",
   "execution_count": 143,
   "id": "dc7a5624-a00a-4b95-9f2f-2e485d055171",
   "metadata": {},
   "outputs": [
    {
     "data": {
      "text/plain": [
       "'AOTSRIOALRH_EMRNGIMA_PTT'"
      ]
     },
     "execution_count": 143,
     "metadata": {},
     "output_type": "execute_result"
    }
   ],
   "source": [
    "problem_2(\"ALGORITHMS_ARE_IMPORTANT\", 8) \n",
    "#\"AOTSRIOALRH_EMRNGIMA_PTT\""
   ]
  },
  {
   "cell_type": "markdown",
   "id": "2eb38a6d-f717-470e-af0d-38e0cdaec599",
   "metadata": {},
   "source": [
    "## Problem 3\n",
    "## Vigenere Cipher (8 points)\n",
    "\n",
    "The Caesar cipher is very easy to crack. The _Vigenere cipher_ is an extension to the Caesar cipher that makes it a little more difficult to crack. There are many variations of this cipher, but for the purposes of this exercise, this is how it works:\n",
    "\n",
    "1. Start with a message, such as \"MY MESSAGE\".\n",
    "2. Choose a keyphrase, such as \"KEY\".\n",
    "3. Repeat the keyphrase until it matches the length of the message. In this case, extend \"KEY\" to \"KEYKEYKEYK\". This should yield an implicit 1-1 mapping between letters in the message to letters in the key.\n",
    "4. Convert all letters in the key to their number values (in this particular case, A => 0, Z => 25, etc.). Shift the letters in the message to the right by the number value of the respective letter in the extended key. In this case, applying the cipher yields the encrypted message \"WC WIQCEEO\".\n",
    "\n",
    "**Write a function called `problem_3` that takes two positional arguments `message` and `key`. It should apply the Vigenere cipher to the message and return the encoded message.**  \n",
    "\n",
    "Example input/output:  \n",
    "`problem_3(\"MEAMORE\", \"VINCE\")` => `\"HMNOSMM\"`  \n",
    "`problem_3(\"FOOBAR IS FUBAR\", \"BUZZ\")` => `\"GINABL HT ETCUQ\"`\n",
    "\n",
    "For full credit:\n",
    "1. Spaces in the message count as characters and thus count as additional message length for the purposes of key extension, but they are to be ignored when applying the cipher to the message.\n",
    "\n",
    "For your convenience:\n",
    "1. You are allowed to call your Caesar cipher function.\n",
    "2. Assume that all letters will be uppercase.\n",
    "3. Assume that the key will always be the same length or shorter than the message. The key will only ever have uppercase letters (i.e., no spaces).\n",
    "4. Assume that the message will only ever consist of uppercase letters and spaces."
   ]
  },
  {
   "cell_type": "code",
   "execution_count": 136,
   "id": "97fd0130-04a1-4554-bdd4-c89208c75bb6",
   "metadata": {},
   "outputs": [],
   "source": [
    "def problem_3(message, key):\n",
    "        \n",
    "    repeated_key = \"\"\n",
    "    repeated_key = (key * (len(message) // len(key) + 1))[:len(message)]\n",
    "    print(repeated_key)\n",
    "\n",
    "    final = \"\"\n",
    "        \n",
    "    for i in range(len(message)):\n",
    "        final += problem_1(message[i], ord(repeated_key[i])-65)\n",
    "    return final"
   ]
  },
  {
   "cell_type": "code",
   "execution_count": 137,
   "id": "1f47a8c3-6ed8-4deb-b2b0-bd59e919d053",
   "metadata": {},
   "outputs": [
    {
     "name": "stdout",
     "output_type": "stream",
     "text": [
      "KEYKEYKEYK\n"
     ]
    },
    {
     "data": {
      "text/plain": [
       "'WC WIQCEEO'"
      ]
     },
     "execution_count": 137,
     "metadata": {},
     "output_type": "execute_result"
    }
   ],
   "source": [
    "problem_3(\"MY MESSAGE\", \"KEY\")\n",
    "#\"WC WIQCEEO\""
   ]
  },
  {
   "cell_type": "code",
   "execution_count": 138,
   "id": "338c5851-1061-4226-b3fd-5efd5b93908a",
   "metadata": {},
   "outputs": [
    {
     "name": "stdout",
     "output_type": "stream",
     "text": [
      "VINCEVI\n"
     ]
    },
    {
     "data": {
      "text/plain": [
       "'HMNOSMM'"
      ]
     },
     "execution_count": 138,
     "metadata": {},
     "output_type": "execute_result"
    }
   ],
   "source": [
    "problem_3(\"MEAMORE\", \"VINCE\")\n",
    "#\"HMNOSMM\""
   ]
  },
  {
   "cell_type": "markdown",
   "id": "de6f141e-1e48-4124-bd55-a49c502f28d3",
   "metadata": {},
   "source": [
    "## Problem 4\n",
    "## Scytale De-cipher (8 points)\n",
    "\n",
    "There is no brief for this number.  \n",
    "\n",
    "__Write a function called `problem_4` that takes two positional arguments `message` and `shift`. It should decipher a message that is encoded in the scytale-style cipher from Problem 2 and return the decoded message.__   \n",
    "\n",
    "Example input/output:  \n",
    "`problem_4(\"IMNNA_FTAOIGROE\", 3)` => `\"INFORMATION_AGE\"`  \n",
    "`problem_4(\"AOTSRIOALRH_EMRNGIMA_PTT\", 8)` => `\"ALGORITHMS_ARE_IMPORTANT\"`  \n",
    "`problem_4(\"IRIANMOGFANEOT__\", 4)` => `\"INFORMATION_AGE_\"`  \n",
    "\n",
    "For your convenience:\n",
    "1. Do not trim the added underscores at the end of the message."
   ]
  },
  {
   "cell_type": "code",
   "execution_count": 131,
   "id": "d2876689-df12-4177-9e13-0dc2b17a671d",
   "metadata": {},
   "outputs": [],
   "source": [
    "def problem_4(message, shift):\n",
    "    new_message = \"\"\n",
    "    \n",
    "    if len(message) % shift != 0:\n",
    "        while len(message) % shift != 0:\n",
    "            message += \"_\"\n",
    "                \n",
    "    for i, char in enumerate(message):\n",
    "        new_char = message[(i // (len(message) // shift)) + (len(message) // (len(message) // shift)) * (i % (len(message) // shift)) ]\n",
    "        new_message = new_message + new_char\n",
    "        \n",
    "    return new_message   "
   ]
  },
  {
   "cell_type": "code",
   "execution_count": 132,
   "id": "3dff1a4d-7d95-446f-beef-838925426cbf",
   "metadata": {},
   "outputs": [
    {
     "data": {
      "text/plain": [
       "'INFORMATION_AGE'"
      ]
     },
     "execution_count": 132,
     "metadata": {},
     "output_type": "execute_result"
    }
   ],
   "source": [
    "problem_4(\"IMNNA_FTAOIGROE\", 3) \n",
    "#\"INFORMATION_AGE\""
   ]
  },
  {
   "cell_type": "code",
   "execution_count": 133,
   "id": "59cabcf3-c686-4b34-8ac3-36dead93f6e8",
   "metadata": {},
   "outputs": [
    {
     "data": {
      "text/plain": [
       "'ALGORITHMS_ARE_IMPORTANT'"
      ]
     },
     "execution_count": 133,
     "metadata": {},
     "output_type": "execute_result"
    }
   ],
   "source": [
    "problem_4(\"AOTSRIOALRH_EMRNGIMA_PTT\", 8)\n",
    "#\"ALGORITHMS_ARE_IMPORTANT\""
   ]
  },
  {
   "cell_type": "code",
   "execution_count": 134,
   "id": "e39d0b14-d3a7-4b25-8bbd-040a1d105ce0",
   "metadata": {},
   "outputs": [
    {
     "data": {
      "text/plain": [
       "'INFORMATION_AGE_'"
      ]
     },
     "execution_count": 134,
     "metadata": {},
     "output_type": "execute_result"
    }
   ],
   "source": [
    "problem_4(\"IRIANMOGFANEOT__\", 4)\n",
    "#\"INFORMATION_AGE_\""
   ]
  }
 ],
 "metadata": {
  "kernelspec": {
   "display_name": "Python 3",
   "language": "python",
   "name": "python3"
  },
  "language_info": {
   "codemirror_mode": {
    "name": "ipython",
    "version": 3
   },
   "file_extension": ".py",
   "mimetype": "text/x-python",
   "name": "python",
   "nbconvert_exporter": "python",
   "pygments_lexer": "ipython3",
   "version": "3.8.8"
  }
 },
 "nbformat": 4,
 "nbformat_minor": 5
}
